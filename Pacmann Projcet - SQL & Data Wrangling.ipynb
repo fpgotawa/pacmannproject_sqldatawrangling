{
 "cells": [
  {
   "cell_type": "markdown",
   "metadata": {},
   "source": [
    "# Pacmann Project - SQL & Data Wrangling"
   ]
  },
  {
   "cell_type": "markdown",
   "metadata": {},
   "source": [
    "### Background"
   ]
  },
  {
   "cell_type": "markdown",
   "metadata": {},
   "source": [
    "E-commerce sebagai tempat untuk berbelanja tentunya memiliki banyak transaksi setiap harinya. Data dari transaksi yang terjadi ini tentunya dapat menjadi sesuatu yang berharga bagi perusahaan e-commerce dalam memaksimalkan keuntungan perusahaan. Data analyst memiliki peran yang penting untuk melakukan pemrosesan data mentah menjadi data yang baik untuk dianalisa. Melalui project ini diharapkan dapat dilakukan analisa atas data e-commerce yang tersimpan di database relational. "
   ]
  },
  {
   "cell_type": "markdown",
   "metadata": {},
   "source": [
    "### Objective"
   ]
  },
  {
   "cell_type": "markdown",
   "metadata": {},
   "source": [
    "Tujuan dari analisa data ini adalah mengetahui:\n",
    "* Bagaimana tren penjualan\n",
    "* Wilayah mana yang paling banyak melakukan penjualan\n",
    "* Kapan penjualan paling banyak terjadi\n",
    "* Jenis pembayaran apa yang paling sering digunakan\n",
    "* Bagaimana kepuasan customer per wilayah"
   ]
  },
  {
   "cell_type": "markdown",
   "metadata": {},
   "source": [
    "### Accessing Database"
   ]
  },
  {
   "cell_type": "code",
   "execution_count": 427,
   "metadata": {},
   "outputs": [],
   "source": [
    "# import library yang dibutuhkan untuk analisa data\n",
    "import pandas as pd\n",
    "import sqlite3 as sql\n",
    "import numpy as np\n",
    "import matplotlib.pyplot as plt\n",
    "from datetime import datetime\n",
    "import warnings\n",
    "warnings.simplefilter('ignore')"
   ]
  },
  {
   "cell_type": "code",
   "execution_count": 428,
   "metadata": {},
   "outputs": [
    {
     "name": "stdout",
     "output_type": "stream",
     "text": [
      "[('olist_order_customer_dataset',), ('olist_order_dataset',), ('olist_order_reviews_dataset',), ('olist_order_payments_dataset',), ('olist_order_items_dataset',), ('olist_products_dataset',), ('olist_sellers_dataset',), ('olist_geolocation_dataset',), ('product_category_name_translation',)]\n"
     ]
    }
   ],
   "source": [
    "# membuat path file\n",
    "dbfile = 'olist.db'\n",
    "\n",
    "# membuat koneksi SQL ke SQLite database\n",
    "con = sqlite3.connect(dbfile)\n",
    "\n",
    "# membuat cursor\n",
    "cur = con.cursor()\n",
    "\n",
    "# menampilkan nama tabel\n",
    "table_list = [a for a in cur.execute(\"SELECT name FROM sqlite_master WHERE type = 'table'\")]\n",
    "print(table_list)"
   ]
  },
  {
   "cell_type": "code",
   "execution_count": 429,
   "metadata": {},
   "outputs": [],
   "source": [
    "# membaca tabel yang dibutuhkan ke dalam dataframe\n",
    "order_customer = pd.read_sql_query('SELECT * FROM olist_order_customer_dataset', con)\n",
    "order = pd.read_sql_query('SELECT * FROM olist_order_dataset', con)\n",
    "order_reviews = pd.read_sql_query('SELECT * FROM olist_order_reviews_dataset', con)\n",
    "order_payments = pd.read_sql_query('SELECT * FROM olist_order_payments_dataset', con)"
   ]
  },
  {
   "cell_type": "markdown",
   "metadata": {},
   "source": [
    "### Data Preparation"
   ]
  },
  {
   "cell_type": "markdown",
   "metadata": {},
   "source": [
    "#### Combining the Data"
   ]
  },
  {
   "cell_type": "code",
   "execution_count": 430,
   "metadata": {},
   "outputs": [],
   "source": [
    "# menggabungkan data menjadi satu dataframe\n",
    "join_orders_1 = pd.merge(order, order_customer, how='left', on = 'customer_id')\n",
    "join_orders_2 = pd.merge(join_orders_1, order_reviews, how='left', on = 'order_id')\n",
    "join_orders_3 = pd.merge(join_orders_2, order_payments, how='left', on = 'order_id')"
   ]
  },
  {
   "cell_type": "code",
   "execution_count": 431,
   "metadata": {},
   "outputs": [
    {
     "data": {
      "text/plain": [
       "['index_x',\n",
       " 'order_id',\n",
       " 'customer_id',\n",
       " 'order_status',\n",
       " 'order_purchase_timestamp',\n",
       " 'order_approved_at',\n",
       " 'order_delivered_carrier_date',\n",
       " 'order_delivered_customer_date',\n",
       " 'order_estimated_delivery_date',\n",
       " 'index_y',\n",
       " 'customer_unique_id',\n",
       " 'customer_zip_code_prefix',\n",
       " 'customer_city',\n",
       " 'customer_state',\n",
       " 'index_x',\n",
       " 'review_id',\n",
       " 'review_score',\n",
       " 'review_comment_title',\n",
       " 'review_comment_message',\n",
       " 'review_creation_date',\n",
       " 'review_answer_timestamp',\n",
       " 'index_y',\n",
       " 'payment_sequential',\n",
       " 'payment_type',\n",
       " 'payment_installments',\n",
       " 'payment_value']"
      ]
     },
     "execution_count": 431,
     "metadata": {},
     "output_type": "execute_result"
    }
   ],
   "source": [
    "# melakukan pengecekan kolom setelah data digabungkan\n",
    "list(join_orders_3)"
   ]
  },
  {
   "cell_type": "code",
   "execution_count": 432,
   "metadata": {},
   "outputs": [
    {
     "data": {
      "text/html": [
       "<div>\n",
       "<style scoped>\n",
       "    .dataframe tbody tr th:only-of-type {\n",
       "        vertical-align: middle;\n",
       "    }\n",
       "\n",
       "    .dataframe tbody tr th {\n",
       "        vertical-align: top;\n",
       "    }\n",
       "\n",
       "    .dataframe thead th {\n",
       "        text-align: right;\n",
       "    }\n",
       "</style>\n",
       "<table border=\"1\" class=\"dataframe\">\n",
       "  <thead>\n",
       "    <tr style=\"text-align: right;\">\n",
       "      <th></th>\n",
       "      <th>order_id</th>\n",
       "      <th>order_status</th>\n",
       "      <th>order_purchase_timestamp</th>\n",
       "      <th>customer_unique_id</th>\n",
       "      <th>customer_city</th>\n",
       "      <th>customer_state</th>\n",
       "      <th>review_id</th>\n",
       "      <th>review_score</th>\n",
       "      <th>payment_sequential</th>\n",
       "      <th>payment_type</th>\n",
       "      <th>payment_installments</th>\n",
       "      <th>payment_value</th>\n",
       "    </tr>\n",
       "  </thead>\n",
       "  <tbody>\n",
       "    <tr>\n",
       "      <th>0</th>\n",
       "      <td>e481f51cbdc54678b7cc49136f2d6af7</td>\n",
       "      <td>delivered</td>\n",
       "      <td>2017-10-02 10:56:33</td>\n",
       "      <td>7c396fd4830fd04220f754e42b4e5bff</td>\n",
       "      <td>sao paulo</td>\n",
       "      <td>SP</td>\n",
       "      <td>a54f0611adc9ed256b57ede6b6eb5114</td>\n",
       "      <td>4.0</td>\n",
       "      <td>1.0</td>\n",
       "      <td>credit_card</td>\n",
       "      <td>1.0</td>\n",
       "      <td>18.12</td>\n",
       "    </tr>\n",
       "    <tr>\n",
       "      <th>1</th>\n",
       "      <td>e481f51cbdc54678b7cc49136f2d6af7</td>\n",
       "      <td>delivered</td>\n",
       "      <td>2017-10-02 10:56:33</td>\n",
       "      <td>7c396fd4830fd04220f754e42b4e5bff</td>\n",
       "      <td>sao paulo</td>\n",
       "      <td>SP</td>\n",
       "      <td>a54f0611adc9ed256b57ede6b6eb5114</td>\n",
       "      <td>4.0</td>\n",
       "      <td>3.0</td>\n",
       "      <td>voucher</td>\n",
       "      <td>1.0</td>\n",
       "      <td>2.00</td>\n",
       "    </tr>\n",
       "    <tr>\n",
       "      <th>2</th>\n",
       "      <td>e481f51cbdc54678b7cc49136f2d6af7</td>\n",
       "      <td>delivered</td>\n",
       "      <td>2017-10-02 10:56:33</td>\n",
       "      <td>7c396fd4830fd04220f754e42b4e5bff</td>\n",
       "      <td>sao paulo</td>\n",
       "      <td>SP</td>\n",
       "      <td>a54f0611adc9ed256b57ede6b6eb5114</td>\n",
       "      <td>4.0</td>\n",
       "      <td>2.0</td>\n",
       "      <td>voucher</td>\n",
       "      <td>1.0</td>\n",
       "      <td>18.59</td>\n",
       "    </tr>\n",
       "    <tr>\n",
       "      <th>3</th>\n",
       "      <td>53cdb2fc8bc7dce0b6741e2150273451</td>\n",
       "      <td>delivered</td>\n",
       "      <td>2018-07-24 20:41:37</td>\n",
       "      <td>af07308b275d755c9edb36a90c618231</td>\n",
       "      <td>barreiras</td>\n",
       "      <td>BA</td>\n",
       "      <td>8d5266042046a06655c8db133d120ba5</td>\n",
       "      <td>4.0</td>\n",
       "      <td>1.0</td>\n",
       "      <td>boleto</td>\n",
       "      <td>1.0</td>\n",
       "      <td>141.46</td>\n",
       "    </tr>\n",
       "    <tr>\n",
       "      <th>4</th>\n",
       "      <td>47770eb9100c2d0c44946d9cf07ec65d</td>\n",
       "      <td>delivered</td>\n",
       "      <td>2018-08-08 08:38:49</td>\n",
       "      <td>3a653a41f6f9fc3d2a113cf8398680e8</td>\n",
       "      <td>vianopolis</td>\n",
       "      <td>GO</td>\n",
       "      <td>e73b67b67587f7644d5bd1a52deb1b01</td>\n",
       "      <td>5.0</td>\n",
       "      <td>1.0</td>\n",
       "      <td>credit_card</td>\n",
       "      <td>3.0</td>\n",
       "      <td>179.12</td>\n",
       "    </tr>\n",
       "    <tr>\n",
       "      <th>...</th>\n",
       "      <td>...</td>\n",
       "      <td>...</td>\n",
       "      <td>...</td>\n",
       "      <td>...</td>\n",
       "      <td>...</td>\n",
       "      <td>...</td>\n",
       "      <td>...</td>\n",
       "      <td>...</td>\n",
       "      <td>...</td>\n",
       "      <td>...</td>\n",
       "      <td>...</td>\n",
       "      <td>...</td>\n",
       "    </tr>\n",
       "    <tr>\n",
       "      <th>104473</th>\n",
       "      <td>9c5dedf39a927c1b2549525ed64a053c</td>\n",
       "      <td>delivered</td>\n",
       "      <td>2017-03-09 09:54:05</td>\n",
       "      <td>6359f309b166b0196dbf7ad2ac62bb5a</td>\n",
       "      <td>sao jose dos campos</td>\n",
       "      <td>SP</td>\n",
       "      <td>e262b3f92d1ce917aa412a9406cf61a6</td>\n",
       "      <td>5.0</td>\n",
       "      <td>1.0</td>\n",
       "      <td>credit_card</td>\n",
       "      <td>3.0</td>\n",
       "      <td>85.08</td>\n",
       "    </tr>\n",
       "    <tr>\n",
       "      <th>104474</th>\n",
       "      <td>63943bddc261676b46f01ca7ac2f7bd8</td>\n",
       "      <td>delivered</td>\n",
       "      <td>2018-02-06 12:58:58</td>\n",
       "      <td>da62f9e57a76d978d02ab5362c509660</td>\n",
       "      <td>praia grande</td>\n",
       "      <td>SP</td>\n",
       "      <td>29bb71b2760d0f876dfa178a76bc4734</td>\n",
       "      <td>4.0</td>\n",
       "      <td>1.0</td>\n",
       "      <td>credit_card</td>\n",
       "      <td>3.0</td>\n",
       "      <td>195.00</td>\n",
       "    </tr>\n",
       "    <tr>\n",
       "      <th>104475</th>\n",
       "      <td>83c1379a015df1e13d02aae0204711ab</td>\n",
       "      <td>delivered</td>\n",
       "      <td>2017-08-27 14:46:43</td>\n",
       "      <td>737520a9aad80b3fbbdad19b66b37b30</td>\n",
       "      <td>nova vicosa</td>\n",
       "      <td>BA</td>\n",
       "      <td>371579771219f6db2d830d50805977bb</td>\n",
       "      <td>5.0</td>\n",
       "      <td>1.0</td>\n",
       "      <td>credit_card</td>\n",
       "      <td>5.0</td>\n",
       "      <td>271.01</td>\n",
       "    </tr>\n",
       "    <tr>\n",
       "      <th>104476</th>\n",
       "      <td>11c177c8e97725db2631073c19f07b62</td>\n",
       "      <td>delivered</td>\n",
       "      <td>2018-01-08 21:28:27</td>\n",
       "      <td>5097a5312c8b157bb7be58ae360ef43c</td>\n",
       "      <td>japuiba</td>\n",
       "      <td>RJ</td>\n",
       "      <td>8ab6855b9fe9b812cd03a480a25058a1</td>\n",
       "      <td>2.0</td>\n",
       "      <td>1.0</td>\n",
       "      <td>credit_card</td>\n",
       "      <td>4.0</td>\n",
       "      <td>441.16</td>\n",
       "    </tr>\n",
       "    <tr>\n",
       "      <th>104477</th>\n",
       "      <td>66dea50a8b16d9b4dee7af250b4be1a5</td>\n",
       "      <td>delivered</td>\n",
       "      <td>2018-03-08 20:57:30</td>\n",
       "      <td>60350aa974b26ff12caad89e55993bd6</td>\n",
       "      <td>lapa</td>\n",
       "      <td>PR</td>\n",
       "      <td>dc9c59b4688062c25758c2be4cafc523</td>\n",
       "      <td>5.0</td>\n",
       "      <td>1.0</td>\n",
       "      <td>debit_card</td>\n",
       "      <td>1.0</td>\n",
       "      <td>86.86</td>\n",
       "    </tr>\n",
       "  </tbody>\n",
       "</table>\n",
       "<p>104478 rows × 12 columns</p>\n",
       "</div>"
      ],
      "text/plain": [
       "                                order_id order_status  \\\n",
       "0       e481f51cbdc54678b7cc49136f2d6af7    delivered   \n",
       "1       e481f51cbdc54678b7cc49136f2d6af7    delivered   \n",
       "2       e481f51cbdc54678b7cc49136f2d6af7    delivered   \n",
       "3       53cdb2fc8bc7dce0b6741e2150273451    delivered   \n",
       "4       47770eb9100c2d0c44946d9cf07ec65d    delivered   \n",
       "...                                  ...          ...   \n",
       "104473  9c5dedf39a927c1b2549525ed64a053c    delivered   \n",
       "104474  63943bddc261676b46f01ca7ac2f7bd8    delivered   \n",
       "104475  83c1379a015df1e13d02aae0204711ab    delivered   \n",
       "104476  11c177c8e97725db2631073c19f07b62    delivered   \n",
       "104477  66dea50a8b16d9b4dee7af250b4be1a5    delivered   \n",
       "\n",
       "       order_purchase_timestamp                customer_unique_id  \\\n",
       "0           2017-10-02 10:56:33  7c396fd4830fd04220f754e42b4e5bff   \n",
       "1           2017-10-02 10:56:33  7c396fd4830fd04220f754e42b4e5bff   \n",
       "2           2017-10-02 10:56:33  7c396fd4830fd04220f754e42b4e5bff   \n",
       "3           2018-07-24 20:41:37  af07308b275d755c9edb36a90c618231   \n",
       "4           2018-08-08 08:38:49  3a653a41f6f9fc3d2a113cf8398680e8   \n",
       "...                         ...                               ...   \n",
       "104473      2017-03-09 09:54:05  6359f309b166b0196dbf7ad2ac62bb5a   \n",
       "104474      2018-02-06 12:58:58  da62f9e57a76d978d02ab5362c509660   \n",
       "104475      2017-08-27 14:46:43  737520a9aad80b3fbbdad19b66b37b30   \n",
       "104476      2018-01-08 21:28:27  5097a5312c8b157bb7be58ae360ef43c   \n",
       "104477      2018-03-08 20:57:30  60350aa974b26ff12caad89e55993bd6   \n",
       "\n",
       "              customer_city customer_state                         review_id  \\\n",
       "0                 sao paulo             SP  a54f0611adc9ed256b57ede6b6eb5114   \n",
       "1                 sao paulo             SP  a54f0611adc9ed256b57ede6b6eb5114   \n",
       "2                 sao paulo             SP  a54f0611adc9ed256b57ede6b6eb5114   \n",
       "3                 barreiras             BA  8d5266042046a06655c8db133d120ba5   \n",
       "4                vianopolis             GO  e73b67b67587f7644d5bd1a52deb1b01   \n",
       "...                     ...            ...                               ...   \n",
       "104473  sao jose dos campos             SP  e262b3f92d1ce917aa412a9406cf61a6   \n",
       "104474         praia grande             SP  29bb71b2760d0f876dfa178a76bc4734   \n",
       "104475          nova vicosa             BA  371579771219f6db2d830d50805977bb   \n",
       "104476              japuiba             RJ  8ab6855b9fe9b812cd03a480a25058a1   \n",
       "104477                 lapa             PR  dc9c59b4688062c25758c2be4cafc523   \n",
       "\n",
       "        review_score  payment_sequential payment_type  payment_installments  \\\n",
       "0                4.0                 1.0  credit_card                   1.0   \n",
       "1                4.0                 3.0      voucher                   1.0   \n",
       "2                4.0                 2.0      voucher                   1.0   \n",
       "3                4.0                 1.0       boleto                   1.0   \n",
       "4                5.0                 1.0  credit_card                   3.0   \n",
       "...              ...                 ...          ...                   ...   \n",
       "104473           5.0                 1.0  credit_card                   3.0   \n",
       "104474           4.0                 1.0  credit_card                   3.0   \n",
       "104475           5.0                 1.0  credit_card                   5.0   \n",
       "104476           2.0                 1.0  credit_card                   4.0   \n",
       "104477           5.0                 1.0   debit_card                   1.0   \n",
       "\n",
       "        payment_value  \n",
       "0               18.12  \n",
       "1                2.00  \n",
       "2               18.59  \n",
       "3              141.46  \n",
       "4              179.12  \n",
       "...               ...  \n",
       "104473          85.08  \n",
       "104474         195.00  \n",
       "104475         271.01  \n",
       "104476         441.16  \n",
       "104477          86.86  \n",
       "\n",
       "[104478 rows x 12 columns]"
      ]
     },
     "execution_count": 432,
     "metadata": {},
     "output_type": "execute_result"
    }
   ],
   "source": [
    "# drop kolom yang tidak dibutuhkan\n",
    "join_orders = join_orders_3.drop([\n",
    "    'index_x',\n",
    "    'customer_id',\n",
    "    'order_approved_at',\n",
    "    'order_delivered_carrier_date',\n",
    "    'order_delivered_customer_date',\n",
    "    'order_estimated_delivery_date',\n",
    "    'index_y',\n",
    "    'customer_zip_code_prefix',\n",
    "    'review_comment_title',\n",
    "    'review_comment_message',\n",
    "    'review_creation_date',\n",
    "    'review_answer_timestamp'], axis=1)\n",
    "\n",
    "join_orders"
   ]
  },
  {
   "cell_type": "markdown",
   "metadata": {},
   "source": [
    "#### Cleaning the Data"
   ]
  },
  {
   "cell_type": "code",
   "execution_count": 433,
   "metadata": {},
   "outputs": [
    {
     "data": {
      "text/html": [
       "<div>\n",
       "<style scoped>\n",
       "    .dataframe tbody tr th:only-of-type {\n",
       "        vertical-align: middle;\n",
       "    }\n",
       "\n",
       "    .dataframe tbody tr th {\n",
       "        vertical-align: top;\n",
       "    }\n",
       "\n",
       "    .dataframe thead th {\n",
       "        text-align: right;\n",
       "    }\n",
       "</style>\n",
       "<table border=\"1\" class=\"dataframe\">\n",
       "  <thead>\n",
       "    <tr style=\"text-align: right;\">\n",
       "      <th></th>\n",
       "      <th>order_id</th>\n",
       "      <th>order_status</th>\n",
       "      <th>order_purchase_timestamp</th>\n",
       "      <th>customer_unique_id</th>\n",
       "      <th>customer_city</th>\n",
       "      <th>customer_state</th>\n",
       "      <th>review_id</th>\n",
       "      <th>review_score</th>\n",
       "      <th>payment_sequential</th>\n",
       "      <th>payment_type</th>\n",
       "      <th>payment_installments</th>\n",
       "      <th>payment_value</th>\n",
       "    </tr>\n",
       "  </thead>\n",
       "  <tbody>\n",
       "    <tr>\n",
       "      <th>0</th>\n",
       "      <td>e481f51cbdc54678b7cc49136f2d6af7</td>\n",
       "      <td>delivered</td>\n",
       "      <td>2017-10-02 10:56:33</td>\n",
       "      <td>7c396fd4830fd04220f754e42b4e5bff</td>\n",
       "      <td>sao paulo</td>\n",
       "      <td>SP</td>\n",
       "      <td>a54f0611adc9ed256b57ede6b6eb5114</td>\n",
       "      <td>4.0</td>\n",
       "      <td>1.0</td>\n",
       "      <td>credit_card</td>\n",
       "      <td>1.0</td>\n",
       "      <td>18.12</td>\n",
       "    </tr>\n",
       "    <tr>\n",
       "      <th>1</th>\n",
       "      <td>e481f51cbdc54678b7cc49136f2d6af7</td>\n",
       "      <td>delivered</td>\n",
       "      <td>2017-10-02 10:56:33</td>\n",
       "      <td>7c396fd4830fd04220f754e42b4e5bff</td>\n",
       "      <td>sao paulo</td>\n",
       "      <td>SP</td>\n",
       "      <td>a54f0611adc9ed256b57ede6b6eb5114</td>\n",
       "      <td>4.0</td>\n",
       "      <td>3.0</td>\n",
       "      <td>voucher</td>\n",
       "      <td>1.0</td>\n",
       "      <td>2.00</td>\n",
       "    </tr>\n",
       "    <tr>\n",
       "      <th>2</th>\n",
       "      <td>e481f51cbdc54678b7cc49136f2d6af7</td>\n",
       "      <td>delivered</td>\n",
       "      <td>2017-10-02 10:56:33</td>\n",
       "      <td>7c396fd4830fd04220f754e42b4e5bff</td>\n",
       "      <td>sao paulo</td>\n",
       "      <td>SP</td>\n",
       "      <td>a54f0611adc9ed256b57ede6b6eb5114</td>\n",
       "      <td>4.0</td>\n",
       "      <td>2.0</td>\n",
       "      <td>voucher</td>\n",
       "      <td>1.0</td>\n",
       "      <td>18.59</td>\n",
       "    </tr>\n",
       "    <tr>\n",
       "      <th>3</th>\n",
       "      <td>53cdb2fc8bc7dce0b6741e2150273451</td>\n",
       "      <td>delivered</td>\n",
       "      <td>2018-07-24 20:41:37</td>\n",
       "      <td>af07308b275d755c9edb36a90c618231</td>\n",
       "      <td>barreiras</td>\n",
       "      <td>BA</td>\n",
       "      <td>8d5266042046a06655c8db133d120ba5</td>\n",
       "      <td>4.0</td>\n",
       "      <td>1.0</td>\n",
       "      <td>boleto</td>\n",
       "      <td>1.0</td>\n",
       "      <td>141.46</td>\n",
       "    </tr>\n",
       "    <tr>\n",
       "      <th>4</th>\n",
       "      <td>47770eb9100c2d0c44946d9cf07ec65d</td>\n",
       "      <td>delivered</td>\n",
       "      <td>2018-08-08 08:38:49</td>\n",
       "      <td>3a653a41f6f9fc3d2a113cf8398680e8</td>\n",
       "      <td>vianopolis</td>\n",
       "      <td>GO</td>\n",
       "      <td>e73b67b67587f7644d5bd1a52deb1b01</td>\n",
       "      <td>5.0</td>\n",
       "      <td>1.0</td>\n",
       "      <td>credit_card</td>\n",
       "      <td>3.0</td>\n",
       "      <td>179.12</td>\n",
       "    </tr>\n",
       "    <tr>\n",
       "      <th>...</th>\n",
       "      <td>...</td>\n",
       "      <td>...</td>\n",
       "      <td>...</td>\n",
       "      <td>...</td>\n",
       "      <td>...</td>\n",
       "      <td>...</td>\n",
       "      <td>...</td>\n",
       "      <td>...</td>\n",
       "      <td>...</td>\n",
       "      <td>...</td>\n",
       "      <td>...</td>\n",
       "      <td>...</td>\n",
       "    </tr>\n",
       "    <tr>\n",
       "      <th>104473</th>\n",
       "      <td>9c5dedf39a927c1b2549525ed64a053c</td>\n",
       "      <td>delivered</td>\n",
       "      <td>2017-03-09 09:54:05</td>\n",
       "      <td>6359f309b166b0196dbf7ad2ac62bb5a</td>\n",
       "      <td>sao jose dos campos</td>\n",
       "      <td>SP</td>\n",
       "      <td>e262b3f92d1ce917aa412a9406cf61a6</td>\n",
       "      <td>5.0</td>\n",
       "      <td>1.0</td>\n",
       "      <td>credit_card</td>\n",
       "      <td>3.0</td>\n",
       "      <td>85.08</td>\n",
       "    </tr>\n",
       "    <tr>\n",
       "      <th>104474</th>\n",
       "      <td>63943bddc261676b46f01ca7ac2f7bd8</td>\n",
       "      <td>delivered</td>\n",
       "      <td>2018-02-06 12:58:58</td>\n",
       "      <td>da62f9e57a76d978d02ab5362c509660</td>\n",
       "      <td>praia grande</td>\n",
       "      <td>SP</td>\n",
       "      <td>29bb71b2760d0f876dfa178a76bc4734</td>\n",
       "      <td>4.0</td>\n",
       "      <td>1.0</td>\n",
       "      <td>credit_card</td>\n",
       "      <td>3.0</td>\n",
       "      <td>195.00</td>\n",
       "    </tr>\n",
       "    <tr>\n",
       "      <th>104475</th>\n",
       "      <td>83c1379a015df1e13d02aae0204711ab</td>\n",
       "      <td>delivered</td>\n",
       "      <td>2017-08-27 14:46:43</td>\n",
       "      <td>737520a9aad80b3fbbdad19b66b37b30</td>\n",
       "      <td>nova vicosa</td>\n",
       "      <td>BA</td>\n",
       "      <td>371579771219f6db2d830d50805977bb</td>\n",
       "      <td>5.0</td>\n",
       "      <td>1.0</td>\n",
       "      <td>credit_card</td>\n",
       "      <td>5.0</td>\n",
       "      <td>271.01</td>\n",
       "    </tr>\n",
       "    <tr>\n",
       "      <th>104476</th>\n",
       "      <td>11c177c8e97725db2631073c19f07b62</td>\n",
       "      <td>delivered</td>\n",
       "      <td>2018-01-08 21:28:27</td>\n",
       "      <td>5097a5312c8b157bb7be58ae360ef43c</td>\n",
       "      <td>japuiba</td>\n",
       "      <td>RJ</td>\n",
       "      <td>8ab6855b9fe9b812cd03a480a25058a1</td>\n",
       "      <td>2.0</td>\n",
       "      <td>1.0</td>\n",
       "      <td>credit_card</td>\n",
       "      <td>4.0</td>\n",
       "      <td>441.16</td>\n",
       "    </tr>\n",
       "    <tr>\n",
       "      <th>104477</th>\n",
       "      <td>66dea50a8b16d9b4dee7af250b4be1a5</td>\n",
       "      <td>delivered</td>\n",
       "      <td>2018-03-08 20:57:30</td>\n",
       "      <td>60350aa974b26ff12caad89e55993bd6</td>\n",
       "      <td>lapa</td>\n",
       "      <td>PR</td>\n",
       "      <td>dc9c59b4688062c25758c2be4cafc523</td>\n",
       "      <td>5.0</td>\n",
       "      <td>1.0</td>\n",
       "      <td>debit_card</td>\n",
       "      <td>1.0</td>\n",
       "      <td>86.86</td>\n",
       "    </tr>\n",
       "  </tbody>\n",
       "</table>\n",
       "<p>104478 rows × 12 columns</p>\n",
       "</div>"
      ],
      "text/plain": [
       "                                order_id order_status  \\\n",
       "0       e481f51cbdc54678b7cc49136f2d6af7    delivered   \n",
       "1       e481f51cbdc54678b7cc49136f2d6af7    delivered   \n",
       "2       e481f51cbdc54678b7cc49136f2d6af7    delivered   \n",
       "3       53cdb2fc8bc7dce0b6741e2150273451    delivered   \n",
       "4       47770eb9100c2d0c44946d9cf07ec65d    delivered   \n",
       "...                                  ...          ...   \n",
       "104473  9c5dedf39a927c1b2549525ed64a053c    delivered   \n",
       "104474  63943bddc261676b46f01ca7ac2f7bd8    delivered   \n",
       "104475  83c1379a015df1e13d02aae0204711ab    delivered   \n",
       "104476  11c177c8e97725db2631073c19f07b62    delivered   \n",
       "104477  66dea50a8b16d9b4dee7af250b4be1a5    delivered   \n",
       "\n",
       "       order_purchase_timestamp                customer_unique_id  \\\n",
       "0           2017-10-02 10:56:33  7c396fd4830fd04220f754e42b4e5bff   \n",
       "1           2017-10-02 10:56:33  7c396fd4830fd04220f754e42b4e5bff   \n",
       "2           2017-10-02 10:56:33  7c396fd4830fd04220f754e42b4e5bff   \n",
       "3           2018-07-24 20:41:37  af07308b275d755c9edb36a90c618231   \n",
       "4           2018-08-08 08:38:49  3a653a41f6f9fc3d2a113cf8398680e8   \n",
       "...                         ...                               ...   \n",
       "104473      2017-03-09 09:54:05  6359f309b166b0196dbf7ad2ac62bb5a   \n",
       "104474      2018-02-06 12:58:58  da62f9e57a76d978d02ab5362c509660   \n",
       "104475      2017-08-27 14:46:43  737520a9aad80b3fbbdad19b66b37b30   \n",
       "104476      2018-01-08 21:28:27  5097a5312c8b157bb7be58ae360ef43c   \n",
       "104477      2018-03-08 20:57:30  60350aa974b26ff12caad89e55993bd6   \n",
       "\n",
       "              customer_city customer_state                         review_id  \\\n",
       "0                 sao paulo             SP  a54f0611adc9ed256b57ede6b6eb5114   \n",
       "1                 sao paulo             SP  a54f0611adc9ed256b57ede6b6eb5114   \n",
       "2                 sao paulo             SP  a54f0611adc9ed256b57ede6b6eb5114   \n",
       "3                 barreiras             BA  8d5266042046a06655c8db133d120ba5   \n",
       "4                vianopolis             GO  e73b67b67587f7644d5bd1a52deb1b01   \n",
       "...                     ...            ...                               ...   \n",
       "104473  sao jose dos campos             SP  e262b3f92d1ce917aa412a9406cf61a6   \n",
       "104474         praia grande             SP  29bb71b2760d0f876dfa178a76bc4734   \n",
       "104475          nova vicosa             BA  371579771219f6db2d830d50805977bb   \n",
       "104476              japuiba             RJ  8ab6855b9fe9b812cd03a480a25058a1   \n",
       "104477                 lapa             PR  dc9c59b4688062c25758c2be4cafc523   \n",
       "\n",
       "        review_score  payment_sequential payment_type  payment_installments  \\\n",
       "0                4.0                 1.0  credit_card                   1.0   \n",
       "1                4.0                 3.0      voucher                   1.0   \n",
       "2                4.0                 2.0      voucher                   1.0   \n",
       "3                4.0                 1.0       boleto                   1.0   \n",
       "4                5.0                 1.0  credit_card                   3.0   \n",
       "...              ...                 ...          ...                   ...   \n",
       "104473           5.0                 1.0  credit_card                   3.0   \n",
       "104474           4.0                 1.0  credit_card                   3.0   \n",
       "104475           5.0                 1.0  credit_card                   5.0   \n",
       "104476           2.0                 1.0  credit_card                   4.0   \n",
       "104477           5.0                 1.0   debit_card                   1.0   \n",
       "\n",
       "        payment_value  \n",
       "0               18.12  \n",
       "1                2.00  \n",
       "2               18.59  \n",
       "3              141.46  \n",
       "4              179.12  \n",
       "...               ...  \n",
       "104473          85.08  \n",
       "104474         195.00  \n",
       "104475         271.01  \n",
       "104476         441.16  \n",
       "104477          86.86  \n",
       "\n",
       "[104478 rows x 12 columns]"
      ]
     },
     "execution_count": 433,
     "metadata": {},
     "output_type": "execute_result"
    }
   ],
   "source": [
    "# menghapus data yang duplikat\n",
    "join_orders = join_orders[~join_orders.duplicated(keep='first')]\n",
    "join_orders"
   ]
  },
  {
   "cell_type": "code",
   "execution_count": 434,
   "metadata": {},
   "outputs": [
    {
     "data": {
      "text/plain": [
       "order_id                      0\n",
       "order_status                  0\n",
       "order_purchase_timestamp      0\n",
       "customer_unique_id            0\n",
       "customer_city                 0\n",
       "customer_state                0\n",
       "review_id                   800\n",
       "review_score                800\n",
       "payment_sequential            1\n",
       "payment_type                  1\n",
       "payment_installments          1\n",
       "payment_value                 1\n",
       "dtype: int64"
      ]
     },
     "execution_count": 434,
     "metadata": {},
     "output_type": "execute_result"
    }
   ],
   "source": [
    "# mengecek null value pada dataframe\n",
    "join_orders.isna().sum()"
   ]
  },
  {
   "cell_type": "code",
   "execution_count": 435,
   "metadata": {},
   "outputs": [
    {
     "data": {
      "text/html": [
       "<div>\n",
       "<style scoped>\n",
       "    .dataframe tbody tr th:only-of-type {\n",
       "        vertical-align: middle;\n",
       "    }\n",
       "\n",
       "    .dataframe tbody tr th {\n",
       "        vertical-align: top;\n",
       "    }\n",
       "\n",
       "    .dataframe thead th {\n",
       "        text-align: right;\n",
       "    }\n",
       "</style>\n",
       "<table border=\"1\" class=\"dataframe\">\n",
       "  <thead>\n",
       "    <tr style=\"text-align: right;\">\n",
       "      <th></th>\n",
       "      <th>order_id</th>\n",
       "      <th>order_status</th>\n",
       "      <th>order_purchase_timestamp</th>\n",
       "      <th>customer_unique_id</th>\n",
       "      <th>customer_city</th>\n",
       "      <th>customer_state</th>\n",
       "      <th>review_id</th>\n",
       "      <th>review_score</th>\n",
       "      <th>payment_sequential</th>\n",
       "      <th>payment_type</th>\n",
       "      <th>payment_installments</th>\n",
       "      <th>payment_value</th>\n",
       "    </tr>\n",
       "  </thead>\n",
       "  <tbody>\n",
       "    <tr>\n",
       "      <th>32304</th>\n",
       "      <td>bfbd0f9bdef84302105ad712db648a6c</td>\n",
       "      <td>delivered</td>\n",
       "      <td>2016-09-15 12:16:38</td>\n",
       "      <td>830d5b7aaa3b6f1e9ad63703bec97d23</td>\n",
       "      <td>sao joaquim da barra</td>\n",
       "      <td>SP</td>\n",
       "      <td>6916ca4502d6d3bfd39818759d55d536</td>\n",
       "      <td>1.0</td>\n",
       "      <td>NaN</td>\n",
       "      <td>NaN</td>\n",
       "      <td>NaN</td>\n",
       "      <td>NaN</td>\n",
       "    </tr>\n",
       "  </tbody>\n",
       "</table>\n",
       "</div>"
      ],
      "text/plain": [
       "                               order_id order_status order_purchase_timestamp  \\\n",
       "32304  bfbd0f9bdef84302105ad712db648a6c    delivered      2016-09-15 12:16:38   \n",
       "\n",
       "                     customer_unique_id         customer_city customer_state  \\\n",
       "32304  830d5b7aaa3b6f1e9ad63703bec97d23  sao joaquim da barra             SP   \n",
       "\n",
       "                              review_id  review_score  payment_sequential  \\\n",
       "32304  6916ca4502d6d3bfd39818759d55d536           1.0                 NaN   \n",
       "\n",
       "      payment_type  payment_installments  payment_value  \n",
       "32304          NaN                   NaN            NaN  "
      ]
     },
     "execution_count": 435,
     "metadata": {},
     "output_type": "execute_result"
    }
   ],
   "source": [
    "# mengecek null value pada dataframe\n",
    "join_orders[join_orders['payment_sequential'].isna()]"
   ]
  },
  {
   "cell_type": "code",
   "execution_count": 436,
   "metadata": {},
   "outputs": [
    {
     "data": {
      "text/plain": [
       "order_id                      0\n",
       "order_status                  0\n",
       "order_purchase_timestamp      0\n",
       "customer_unique_id            0\n",
       "customer_city                 0\n",
       "customer_state                0\n",
       "review_id                   800\n",
       "review_score                800\n",
       "payment_sequential            0\n",
       "payment_type                  0\n",
       "payment_installments          0\n",
       "payment_value                 0\n",
       "dtype: int64"
      ]
     },
     "execution_count": 436,
     "metadata": {},
     "output_type": "execute_result"
    }
   ],
   "source": [
    "# menghapus null value\n",
    "join_orders= join_orders[~join_orders['payment_sequential'].isna()]\n",
    "join_orders.isna().sum()\n",
    "\n",
    "# missing value pada kolom review akan dihandle nanti pada saat analisa terhadap review"
   ]
  },
  {
   "cell_type": "markdown",
   "metadata": {},
   "source": [
    "#### Parsing Dates"
   ]
  },
  {
   "cell_type": "code",
   "execution_count": 437,
   "metadata": {},
   "outputs": [],
   "source": [
    "join_orders['order_purchase_timestamp'] = join_orders['order_purchase_timestamp'].astype('datetime64[ns]')\n",
    "\n",
    "join_orders['purchase_hour'] = join_orders['order_purchase_timestamp'].dt.hour\n",
    "join_orders['purchase_day'] = join_orders['order_purchase_timestamp'].dt.day\n",
    "join_orders['purchase_day_week'] = join_orders['order_purchase_timestamp'].dt.dayofweek\n",
    "join_orders['purchase_month'] = join_orders['order_purchase_timestamp'].dt.month\n",
    "join_orders['purchase_year'] = join_orders['order_purchase_timestamp'].dt.year"
   ]
  },
  {
   "cell_type": "markdown",
   "metadata": {},
   "source": [
    "#### Rename Dataframe"
   ]
  },
  {
   "cell_type": "code",
   "execution_count": 438,
   "metadata": {},
   "outputs": [],
   "source": [
    "df = join_orders"
   ]
  },
  {
   "cell_type": "markdown",
   "metadata": {},
   "source": [
    "### Data Exploration"
   ]
  },
  {
   "cell_type": "markdown",
   "metadata": {},
   "source": [
    "##### Tren Transaksi"
   ]
  },
  {
   "cell_type": "code",
   "execution_count": 439,
   "metadata": {},
   "outputs": [],
   "source": [
    "tren_order = df[df['order_status'] == 'delivered'].groupby(['purchase_year'])['order_id'].nunique()\n",
    "tren_payment = df[df['order_status'] == 'delivered'].groupby(['purchase_year'])['payment_value'].sum()"
   ]
  },
  {
   "cell_type": "code",
   "execution_count": 440,
   "metadata": {},
   "outputs": [
    {
     "data": {
      "text/plain": [
       "Text(0.5, 1.0, 'Tren Jumlah Pendapatan')"
      ]
     },
     "execution_count": 440,
     "metadata": {},
     "output_type": "execute_result"
    },
    {
     "data": {
      "image/png": "[encoded data removed]",
      "text/plain": [
       "<Figure size 1440x360 with 2 Axes>"
      ]
     },
     "metadata": {
      "needs_background": "light"
     },
     "output_type": "display_data"
    }
   ],
   "source": [
    "plt.subplot(1,2,1)\n",
    "ax = tren_order.plot(kind='line', figsize=(20,5), xticks=(2016,2017,2018))\n",
    "ax. set_xlabel('Year')\n",
    "ax.set_ylabel('Count of Orders')\n",
    "plt.title('Tren Jumlah Penjualan')\n",
    "\n",
    "plt.subplot(1,2,2)\n",
    "ax = tren_payment.plot(kind='line', figsize=(20,5), xticks=(2016,2017,2018))\n",
    "ax.set_xlabel('Year')\n",
    "ax.set_ylabel('Sum of Payment')\n",
    "plt.title('Tren Jumlah Pendapatan')"
   ]
  },
  {
   "cell_type": "markdown",
   "metadata": {},
   "source": [
    "Tren dari jumlah penjualan meningkat dari tahun 2016-2018. Seiring dengan peningkatan jumlah penjualan, jumlah pendapatan juga mengalami kenaikan."
   ]
  },
  {
   "cell_type": "markdown",
   "metadata": {},
   "source": [
    "##### Penjualan per Wilayah"
   ]
  },
  {
   "cell_type": "code",
   "execution_count": 441,
   "metadata": {},
   "outputs": [],
   "source": [
    "wilayah_order = df[df['order_status'] == 'delivered'].groupby(['customer_state'])['order_id'].nunique().sort_values(ascending=False).head(10)\n",
    "wilayah_payment = df[df['order_status'] == 'delivered'].groupby(['customer_state'])['payment_value'].sum().sort_values(ascending=False).head(10)\n",
    "city_order = df[df['order_status'] == 'delivered'].groupby(['customer_city'])['order_id'].nunique().sort_values(ascending=False).head(10)\n",
    "city_payment = df[df['order_status'] == 'delivered'].groupby(['customer_city'])['payment_value'].sum().sort_values(ascending=False).head(10)"
   ]
  },
  {
   "cell_type": "code",
   "execution_count": 442,
   "metadata": {},
   "outputs": [
    {
     "data": {
      "text/plain": [
       "Text(0.5, 1.0, 'Jumlah Pendapatan per City')"
      ]
     },
     "execution_count": 442,
     "metadata": {},
     "output_type": "execute_result"
    },
    {
     "data": {
      "image/png": "[encoded data removed]",
      "text/plain": [
       "<Figure size 1440x864 with 4 Axes>"
      ]
     },
     "metadata": {
      "needs_background": "light"
     },
     "output_type": "display_data"
    }
   ],
   "source": [
    "plt.subplot(2,2,1)\n",
    "ax = wilayah_order.plot(kind='bar', figsize=(20,12))\n",
    "ax.set_xlabel('State')\n",
    "ax.set_ylabel('Count of Orders')\n",
    "plt.title('Jumlah Penjualan per State')\n",
    "\n",
    "plt.subplot(2,2,2)\n",
    "ax = wilayah_payment.plot(kind='bar', figsize=(20,12))\n",
    "ax.set_xlabel('State')\n",
    "ax.set_ylabel('Sum of Payment')\n",
    "plt.title('Jumlah Pendapatan per State')\n",
    "\n",
    "plt.subplot(2,2,3)\n",
    "ax = city_order.plot(kind='bar', figsize=(20,12))\n",
    "ax.set_xlabel('City')\n",
    "ax.set_ylabel('Count of Orders')\n",
    "plt.title('Jumlah Penjualan per City')\n",
    "\n",
    "plt.subplot(2,2,4)\n",
    "ax = city_payment.plot(kind='bar', figsize=(20,12))\n",
    "ax.set_xlabel('City')\n",
    "ax.set_ylabel('Sum of Payment')\n",
    "plt.title('Jumlah Pendapatan per City')"
   ]
  },
  {
   "cell_type": "markdown",
   "metadata": {},
   "source": [
    "Penjualan terbanyak ada pada state SP, disusul dengan RJ dan MG, sedangkan untuk kota dengan penjualan terbanyak ada pada Sao Paulo, Rio de Janeiro dan Belo Horizonte."
   ]
  },
  {
   "cell_type": "markdown",
   "metadata": {},
   "source": [
    "##### Waktu Penjualan"
   ]
  },
  {
   "cell_type": "code",
   "execution_count": 443,
   "metadata": {},
   "outputs": [],
   "source": [
    "order_per_hour = df.groupby(['purchase_hour'])['order_id'].nunique()\n",
    "order_per_day = df.groupby(['purchase_day'])['order_id'].nunique()\n",
    "order_per_day_week = df.groupby(['purchase_day_week'])['order_id'].nunique()\n",
    "order_per_month = df.groupby(['purchase_month'])['order_id'].nunique()"
   ]
  },
  {
   "cell_type": "code",
   "execution_count": 444,
   "metadata": {},
   "outputs": [
    {
     "data": {
      "text/plain": [
       "Text(0.5, 1.0, 'Penjualan dalam Bulan')"
      ]
     },
     "execution_count": 444,
     "metadata": {},
     "output_type": "execute_result"
    },
    {
     "data": {
      "image/png": "[encoded data removed]",
      "text/plain": [
       "<Figure size 1440x720 with 4 Axes>"
      ]
     },
     "metadata": {
      "needs_background": "light"
     },
     "output_type": "display_data"
    }
   ],
   "source": [
    "plt.subplot(2,2,1)\n",
    "ax = order_per_hour.plot(figsize=(20, 10))\n",
    "ax.set_xlabel('Hour')\n",
    "ax.set_ylabel('Count of Order')\n",
    "plt.title('Penjualan dalam Jam')\n",
    "\n",
    "plt.subplot(2,2,2)\n",
    "ax = order_per_day.plot(figsize=(20, 10))\n",
    "ax.set_xlabel('Day')\n",
    "ax.set_ylabel('Count of Order')\n",
    "plt.title('Penjualan dalam Tanggal')\n",
    "\n",
    "plt.subplot(2,2,3)\n",
    "ax = order_per_day_week.plot(figsize=(20, 10))\n",
    "ax.set_xlabel('Day of Week')\n",
    "ax.set_ylabel('Count of Order')\n",
    "plt.title('Penjualan dalam Hari')\n",
    "\n",
    "plt.subplot(2,2,4)\n",
    "ax = order_per_month.plot(figsize=(20, 10))\n",
    "ax.set_xlabel('Month')\n",
    "ax.set_ylabel('Count of Order')\n",
    "plt.title('Penjualan dalam Bulan')"
   ]
  },
  {
   "cell_type": "markdown",
   "metadata": {},
   "source": [
    "Penjualan relatif tinggi terjadi pada waktu-waktu berikut:\n",
    "* Pada pukul 10.00-15.00\n",
    "* Pada awal bulan hingga puncaknya di tanggal 23-24\n",
    "* Pada hari minggu\n",
    "* Pada bulan Agustus"
   ]
  },
  {
   "cell_type": "markdown",
   "metadata": {},
   "source": [
    "##### Jenis Pembayaran"
   ]
  },
  {
   "cell_type": "code",
   "execution_count": 445,
   "metadata": {},
   "outputs": [],
   "source": [
    "payment_method = df.groupby(['payment_type'])['order_id'].count()"
   ]
  },
  {
   "cell_type": "code",
   "execution_count": 446,
   "metadata": {},
   "outputs": [
    {
     "data": {
      "text/plain": [
       "<AxesSubplot:xlabel='payment_type'>"
      ]
     },
     "execution_count": 446,
     "metadata": {},
     "output_type": "execute_result"
    },
    {
     "data": {
      "image/png": "[encoded data removed]",
      "text/plain": [
       "<Figure size 1440x720 with 1 Axes>"
      ]
     },
     "metadata": {
      "needs_background": "light"
     },
     "output_type": "display_data"
    }
   ],
   "source": [
    "payment_method.sort_values().plot(kind='bar', figsize=(20,10))"
   ]
  },
  {
   "cell_type": "markdown",
   "metadata": {},
   "source": [
    "Pembayaran dilakukan paling banyak menggunakan credit card"
   ]
  },
  {
   "cell_type": "markdown",
   "metadata": {},
   "source": [
    "##### Kepuasan Customer"
   ]
  },
  {
   "cell_type": "code",
   "execution_count": 447,
   "metadata": {},
   "outputs": [
    {
     "data": {
      "text/html": [
       "<div>\n",
       "<style scoped>\n",
       "    .dataframe tbody tr th:only-of-type {\n",
       "        vertical-align: middle;\n",
       "    }\n",
       "\n",
       "    .dataframe tbody tr th {\n",
       "        vertical-align: top;\n",
       "    }\n",
       "\n",
       "    .dataframe thead th {\n",
       "        text-align: right;\n",
       "    }\n",
       "</style>\n",
       "<table border=\"1\" class=\"dataframe\">\n",
       "  <thead>\n",
       "    <tr style=\"text-align: right;\">\n",
       "      <th></th>\n",
       "      <th>order_id</th>\n",
       "      <th>order_status</th>\n",
       "      <th>order_purchase_timestamp</th>\n",
       "      <th>customer_unique_id</th>\n",
       "      <th>customer_city</th>\n",
       "      <th>customer_state</th>\n",
       "      <th>index</th>\n",
       "      <th>review_id</th>\n",
       "      <th>review_score</th>\n",
       "    </tr>\n",
       "  </thead>\n",
       "  <tbody>\n",
       "    <tr>\n",
       "      <th>0</th>\n",
       "      <td>e481f51cbdc54678b7cc49136f2d6af7</td>\n",
       "      <td>delivered</td>\n",
       "      <td>2017-10-02 10:56:33</td>\n",
       "      <td>7c396fd4830fd04220f754e42b4e5bff</td>\n",
       "      <td>sao paulo</td>\n",
       "      <td>SP</td>\n",
       "      <td>32790.0</td>\n",
       "      <td>a54f0611adc9ed256b57ede6b6eb5114</td>\n",
       "      <td>4.0</td>\n",
       "    </tr>\n",
       "    <tr>\n",
       "      <th>1</th>\n",
       "      <td>53cdb2fc8bc7dce0b6741e2150273451</td>\n",
       "      <td>delivered</td>\n",
       "      <td>2018-07-24 20:41:37</td>\n",
       "      <td>af07308b275d755c9edb36a90c618231</td>\n",
       "      <td>barreiras</td>\n",
       "      <td>BA</td>\n",
       "      <td>29158.0</td>\n",
       "      <td>8d5266042046a06655c8db133d120ba5</td>\n",
       "      <td>4.0</td>\n",
       "    </tr>\n",
       "    <tr>\n",
       "      <th>2</th>\n",
       "      <td>47770eb9100c2d0c44946d9cf07ec65d</td>\n",
       "      <td>delivered</td>\n",
       "      <td>2018-08-08 08:38:49</td>\n",
       "      <td>3a653a41f6f9fc3d2a113cf8398680e8</td>\n",
       "      <td>vianopolis</td>\n",
       "      <td>GO</td>\n",
       "      <td>4323.0</td>\n",
       "      <td>e73b67b67587f7644d5bd1a52deb1b01</td>\n",
       "      <td>5.0</td>\n",
       "    </tr>\n",
       "    <tr>\n",
       "      <th>3</th>\n",
       "      <td>949d5b44dbf5de918fe9c16f97b45f8a</td>\n",
       "      <td>delivered</td>\n",
       "      <td>2017-11-18 19:28:06</td>\n",
       "      <td>7c142cf63193a1473d2e66489a9ae977</td>\n",
       "      <td>sao goncalo do amarante</td>\n",
       "      <td>RN</td>\n",
       "      <td>77520.0</td>\n",
       "      <td>359d03e676b3c069f62cadba8dd3f6e8</td>\n",
       "      <td>5.0</td>\n",
       "    </tr>\n",
       "    <tr>\n",
       "      <th>4</th>\n",
       "      <td>ad21c59c0840e6cb83a9ceb5573f8159</td>\n",
       "      <td>delivered</td>\n",
       "      <td>2018-02-13 21:18:39</td>\n",
       "      <td>72632f0f9dd73dfee390c9b22eb56dd6</td>\n",
       "      <td>santo andre</td>\n",
       "      <td>SP</td>\n",
       "      <td>54136.0</td>\n",
       "      <td>e50934924e227544ba8246aeb3770dd4</td>\n",
       "      <td>5.0</td>\n",
       "    </tr>\n",
       "    <tr>\n",
       "      <th>...</th>\n",
       "      <td>...</td>\n",
       "      <td>...</td>\n",
       "      <td>...</td>\n",
       "      <td>...</td>\n",
       "      <td>...</td>\n",
       "      <td>...</td>\n",
       "      <td>...</td>\n",
       "      <td>...</td>\n",
       "      <td>...</td>\n",
       "    </tr>\n",
       "    <tr>\n",
       "      <th>99987</th>\n",
       "      <td>9c5dedf39a927c1b2549525ed64a053c</td>\n",
       "      <td>delivered</td>\n",
       "      <td>2017-03-09 09:54:05</td>\n",
       "      <td>6359f309b166b0196dbf7ad2ac62bb5a</td>\n",
       "      <td>sao jose dos campos</td>\n",
       "      <td>SP</td>\n",
       "      <td>48684.0</td>\n",
       "      <td>e262b3f92d1ce917aa412a9406cf61a6</td>\n",
       "      <td>5.0</td>\n",
       "    </tr>\n",
       "    <tr>\n",
       "      <th>99988</th>\n",
       "      <td>63943bddc261676b46f01ca7ac2f7bd8</td>\n",
       "      <td>delivered</td>\n",
       "      <td>2018-02-06 12:58:58</td>\n",
       "      <td>da62f9e57a76d978d02ab5362c509660</td>\n",
       "      <td>praia grande</td>\n",
       "      <td>SP</td>\n",
       "      <td>55670.0</td>\n",
       "      <td>29bb71b2760d0f876dfa178a76bc4734</td>\n",
       "      <td>4.0</td>\n",
       "    </tr>\n",
       "    <tr>\n",
       "      <th>99989</th>\n",
       "      <td>83c1379a015df1e13d02aae0204711ab</td>\n",
       "      <td>delivered</td>\n",
       "      <td>2017-08-27 14:46:43</td>\n",
       "      <td>737520a9aad80b3fbbdad19b66b37b30</td>\n",
       "      <td>nova vicosa</td>\n",
       "      <td>BA</td>\n",
       "      <td>43847.0</td>\n",
       "      <td>371579771219f6db2d830d50805977bb</td>\n",
       "      <td>5.0</td>\n",
       "    </tr>\n",
       "    <tr>\n",
       "      <th>99990</th>\n",
       "      <td>11c177c8e97725db2631073c19f07b62</td>\n",
       "      <td>delivered</td>\n",
       "      <td>2018-01-08 21:28:27</td>\n",
       "      <td>5097a5312c8b157bb7be58ae360ef43c</td>\n",
       "      <td>japuiba</td>\n",
       "      <td>RJ</td>\n",
       "      <td>6784.0</td>\n",
       "      <td>8ab6855b9fe9b812cd03a480a25058a1</td>\n",
       "      <td>2.0</td>\n",
       "    </tr>\n",
       "    <tr>\n",
       "      <th>99991</th>\n",
       "      <td>66dea50a8b16d9b4dee7af250b4be1a5</td>\n",
       "      <td>delivered</td>\n",
       "      <td>2018-03-08 20:57:30</td>\n",
       "      <td>60350aa974b26ff12caad89e55993bd6</td>\n",
       "      <td>lapa</td>\n",
       "      <td>PR</td>\n",
       "      <td>23549.0</td>\n",
       "      <td>dc9c59b4688062c25758c2be4cafc523</td>\n",
       "      <td>5.0</td>\n",
       "    </tr>\n",
       "  </tbody>\n",
       "</table>\n",
       "<p>99992 rows × 9 columns</p>\n",
       "</div>"
      ],
      "text/plain": [
       "                               order_id order_status order_purchase_timestamp  \\\n",
       "0      e481f51cbdc54678b7cc49136f2d6af7    delivered      2017-10-02 10:56:33   \n",
       "1      53cdb2fc8bc7dce0b6741e2150273451    delivered      2018-07-24 20:41:37   \n",
       "2      47770eb9100c2d0c44946d9cf07ec65d    delivered      2018-08-08 08:38:49   \n",
       "3      949d5b44dbf5de918fe9c16f97b45f8a    delivered      2017-11-18 19:28:06   \n",
       "4      ad21c59c0840e6cb83a9ceb5573f8159    delivered      2018-02-13 21:18:39   \n",
       "...                                 ...          ...                      ...   \n",
       "99987  9c5dedf39a927c1b2549525ed64a053c    delivered      2017-03-09 09:54:05   \n",
       "99988  63943bddc261676b46f01ca7ac2f7bd8    delivered      2018-02-06 12:58:58   \n",
       "99989  83c1379a015df1e13d02aae0204711ab    delivered      2017-08-27 14:46:43   \n",
       "99990  11c177c8e97725db2631073c19f07b62    delivered      2018-01-08 21:28:27   \n",
       "99991  66dea50a8b16d9b4dee7af250b4be1a5    delivered      2018-03-08 20:57:30   \n",
       "\n",
       "                     customer_unique_id            customer_city  \\\n",
       "0      7c396fd4830fd04220f754e42b4e5bff                sao paulo   \n",
       "1      af07308b275d755c9edb36a90c618231                barreiras   \n",
       "2      3a653a41f6f9fc3d2a113cf8398680e8               vianopolis   \n",
       "3      7c142cf63193a1473d2e66489a9ae977  sao goncalo do amarante   \n",
       "4      72632f0f9dd73dfee390c9b22eb56dd6              santo andre   \n",
       "...                                 ...                      ...   \n",
       "99987  6359f309b166b0196dbf7ad2ac62bb5a      sao jose dos campos   \n",
       "99988  da62f9e57a76d978d02ab5362c509660             praia grande   \n",
       "99989  737520a9aad80b3fbbdad19b66b37b30              nova vicosa   \n",
       "99990  5097a5312c8b157bb7be58ae360ef43c                  japuiba   \n",
       "99991  60350aa974b26ff12caad89e55993bd6                     lapa   \n",
       "\n",
       "      customer_state    index                         review_id  review_score  \n",
       "0                 SP  32790.0  a54f0611adc9ed256b57ede6b6eb5114           4.0  \n",
       "1                 BA  29158.0  8d5266042046a06655c8db133d120ba5           4.0  \n",
       "2                 GO   4323.0  e73b67b67587f7644d5bd1a52deb1b01           5.0  \n",
       "3                 RN  77520.0  359d03e676b3c069f62cadba8dd3f6e8           5.0  \n",
       "4                 SP  54136.0  e50934924e227544ba8246aeb3770dd4           5.0  \n",
       "...              ...      ...                               ...           ...  \n",
       "99987             SP  48684.0  e262b3f92d1ce917aa412a9406cf61a6           5.0  \n",
       "99988             SP  55670.0  29bb71b2760d0f876dfa178a76bc4734           4.0  \n",
       "99989             BA  43847.0  371579771219f6db2d830d50805977bb           5.0  \n",
       "99990             RJ   6784.0  8ab6855b9fe9b812cd03a480a25058a1           2.0  \n",
       "99991             PR  23549.0  dc9c59b4688062c25758c2be4cafc523           5.0  \n",
       "\n",
       "[99992 rows x 9 columns]"
      ]
     },
     "execution_count": 447,
     "metadata": {},
     "output_type": "execute_result"
    }
   ],
   "source": [
    "df_review = join_orders_2.drop([\n",
    "    'index_x',\n",
    "    'customer_id',\n",
    "    'order_approved_at',\n",
    "    'order_delivered_carrier_date',\n",
    "    'order_delivered_customer_date',\n",
    "    'order_estimated_delivery_date',\n",
    "    'index_y',\n",
    "    'customer_zip_code_prefix',\n",
    "    'review_comment_title',\n",
    "    'review_comment_message',\n",
    "    'review_creation_date',\n",
    "    'review_answer_timestamp'], axis=1)\n",
    "\n",
    "df_review"
   ]
  },
  {
   "cell_type": "code",
   "execution_count": 448,
   "metadata": {},
   "outputs": [
    {
     "data": {
      "text/plain": [
       "order_id                    0\n",
       "order_status                0\n",
       "order_purchase_timestamp    0\n",
       "customer_unique_id          0\n",
       "customer_city               0\n",
       "customer_state              0\n",
       "index                       0\n",
       "review_id                   0\n",
       "review_score                0\n",
       "dtype: int64"
      ]
     },
     "execution_count": 448,
     "metadata": {},
     "output_type": "execute_result"
    }
   ],
   "source": [
    "# menghapus data yang duplikat\n",
    "df_review = df_review[~df_review.duplicated(keep='first')]\n",
    "\n",
    "# menghapus null value\n",
    "df_review= df_review[~df_review['review_id'].isna()]\n",
    "df_review.isna().sum()"
   ]
  },
  {
   "cell_type": "code",
   "execution_count": 449,
   "metadata": {},
   "outputs": [
    {
     "data": {
      "text/plain": [
       "4.08642062404257"
      ]
     },
     "execution_count": 449,
     "metadata": {},
     "output_type": "execute_result"
    }
   ],
   "source": [
    "df_review['review_score'].mean()"
   ]
  },
  {
   "cell_type": "code",
   "execution_count": 450,
   "metadata": {},
   "outputs": [],
   "source": [
    "high_review_state = df_review.groupby(['customer_state'])['review_score'].mean().sort_values(ascending=False).head(10)\n",
    "high_review_city = df_review.groupby(['customer_city'])['review_score'].mean().sort_values(ascending=False).head(10)\n",
    "low_review_state = df_review.groupby(['customer_state'])['review_score'].mean().sort_values(ascending=False).tail(10)\n",
    "low_review_city = df_review.groupby(['customer_city'])['review_score'].mean().sort_values(ascending=False).tail(10)"
   ]
  },
  {
   "cell_type": "code",
   "execution_count": 451,
   "metadata": {},
   "outputs": [
    {
     "data": {
      "text/plain": [
       "Text(0.5, 1.0, 'City dengan review terendah')"
      ]
     },
     "execution_count": 451,
     "metadata": {},
     "output_type": "execute_result"
    },
    {
     "data": {
      "image/png": "[encoded data removed]",
      "text/plain": [
       "<Figure size 1440x864 with 4 Axes>"
      ]
     },
     "metadata": {
      "needs_background": "light"
     },
     "output_type": "display_data"
    }
   ],
   "source": [
    "plt.subplot(2,2,1)\n",
    "ax = high_review_state.plot(kind='bar', figsize=(20,12), yticks=(1,2,3,4,5))\n",
    "ax.set_xlabel('State')\n",
    "ax.set_ylabel('Review Score')\n",
    "plt.title('State dengan review tertinggi')\n",
    "\n",
    "plt.subplot(2,2,2)\n",
    "ax = low_review_state.plot(kind='bar', figsize=(20,12), yticks=(1,2,3,4,5))\n",
    "ax.set_xlabel('State')\n",
    "ax.set_ylabel('Review Score')\n",
    "plt.title('State dengan review terendah')\n",
    "\n",
    "plt.subplot(2,2,3)\n",
    "ax = high_review_city.plot(kind='bar', figsize=(20,12), yticks=(1,2,3,4,5))\n",
    "ax.set_xlabel('City')\n",
    "ax.set_ylabel('Review Score')\n",
    "plt.title('City dengan review tertinggi')\n",
    "\n",
    "plt.subplot(2,2,4)\n",
    "ax = low_review_city.plot(kind='bar', figsize=(20,12), yticks=(1,2,3,4,5))\n",
    "ax.set_xlabel('City')\n",
    "ax.set_ylabel('Review Score')\n",
    "plt.title('City dengan review terendah')"
   ]
  },
  {
   "cell_type": "markdown",
   "metadata": {},
   "source": [
    "Pada level state, rata-rata review masih terbilang cukup baik di mana seluruh state ada di atas 3.5. Sementara di level city masih cukup banyak yang memiliki rata-rata review di angka 1"
   ]
  }
 ],
 "metadata": {
  "kernelspec": {
   "display_name": "Python 3.9.12 ('base')",
   "language": "python",
   "name": "python3"
  },
  "language_info": {
   "codemirror_mode": {
    "name": "ipython",
    "version": 3
   },
   "file_extension": ".py",
   "mimetype": "text/x-python",
   "name": "python",
   "nbconvert_exporter": "python",
   "pygments_lexer": "ipython3",
   "version": "3.9.12"
  },
  "orig_nbformat": 4,
  "vscode": {
   "interpreter": {
    "hash": "8fb2ceff9e2dd32267537759e901f1cefd8584e02b3e8c32d3bb7e403f412556"
   }
  }
 },
 "nbformat": 4,
 "nbformat_minor": 2
}
